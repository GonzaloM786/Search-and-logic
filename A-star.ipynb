{
 "cells": [
  {
   "cell_type": "code",
   "execution_count": 1,
   "id": "initial_id",
   "metadata": {
    "collapsed": true,
    "ExecuteTime": {
     "end_time": "2023-12-17T22:21:15.526113Z",
     "start_time": "2023-12-17T22:21:14.300766800Z"
    }
   },
   "outputs": [],
   "source": [
    "import numpy as np\n",
    "import matplotlib.pyplot as plt\n",
    "from Puzzle_state import puzzle_state\n",
    "import matplotlib.colors as mcolors"
   ]
  },
  {
   "cell_type": "code",
   "execution_count": 2,
   "outputs": [],
   "source": [
    "def plot_puzzle(matrix):\n",
    "    _, ax = plt.subplots()\n",
    "\n",
    "    cmap_mascara = mcolors.ListedColormap(['white', 'red', 'orange', 'yellow', 'lime',\n",
    "                                           'cyan', 'darkorchid', 'brown', 'gray'])\n",
    "\n",
    "    ax.imshow(matrix, cmap=cmap_mascara)\n",
    "\n",
    "    # Agregar números en cada casilla\n",
    "    for i in range(3):\n",
    "        for j in range(3):\n",
    "            if matrix[i,j] != 0:\n",
    "                ax.text(j, i, str(matrix[i, j]), ha='center', va='center', fontsize=25, color='black')\n",
    "\n",
    "    ax.set_xticks([])\n",
    "    ax.set_yticks([])\n",
    "\n",
    "    plt.show()"
   ],
   "metadata": {
    "collapsed": false,
    "ExecuteTime": {
     "end_time": "2023-12-17T22:21:15.543019600Z",
     "start_time": "2023-12-17T22:21:15.538658600Z"
    }
   },
   "id": "ee9eb32cf57f84c9"
  },
  {
   "cell_type": "code",
   "execution_count": 3,
   "outputs": [],
   "source": [
    "def a_star(start):\n",
    "    closed_set = []\n",
    "    open_set = [start]\n",
    "    parent = {}\n",
    "    goal = puzzle_state(np.array([[1, 2, 3],\n",
    "                                [4, 5, 6],\n",
    "                                [7, 8, 0]]), 0)\n",
    "    print(\"Open set length:\", len(open_set))\n",
    "    while open_set:\n",
    "        # Node in the open set having the lowest f value\n",
    "        value = float('inf')\n",
    "        #current = open_set[0]\n",
    "        i = 0\n",
    "        index_selected = 0\n",
    "        while i < len(open_set):\n",
    "            if open_set[i].f < value:\n",
    "                value = open_set[i].f\n",
    "                current = open_set[i]\n",
    "                index_selected = i\n",
    "            i += 1\n",
    "        print(\"Current matrix\", current.matrix)\n",
    "        \n",
    "        # Check for goal state\n",
    "        if current == goal:\n",
    "            return parent, current\n",
    "        print(\"Before updating the sets\")\n",
    "        print(\"\\tOpen set:\", open_set)\n",
    "        print(\"\\tClosed set:\", closed_set)\n",
    "        # Remove current from open set and add to closed set\n",
    "        closed_set += [open_set.pop(index_selected)]\n",
    "        print(\"After updating the sets\")\n",
    "        print(\"\\tOpen set:\", open_set)\n",
    "        print(\"\\tClosed set:\", closed_set)\n",
    "        # Check neighbors\n",
    "        for neighbor in current.neighbors():\n",
    "            print(\"Neighbor\", neighbor.matrix)\n",
    "            # Check if neighbor is in closed set, then continue\n",
    "            condition = False\n",
    "            for node in closed_set:\n",
    "                if neighbor == node:\n",
    "                    condition = True\n",
    "                    break\n",
    "            if condition: continue\n",
    "            print(\"Neighbor is not in closed set\")\n",
    "            tentative_g = current.g + 1\n",
    "            \n",
    "            # Check if neighbor is not in open set\n",
    "            not_in_openset = True\n",
    "            for node in open_set:\n",
    "                if neighbor == node:\n",
    "                    print(\"Neighbor is in open set\")\n",
    "                    not_in_openset = False\n",
    "                    break\n",
    "                                \n",
    "            if not_in_openset or tentative_g < neighbor.g:\n",
    "                print(\"Adding neighbor as parent\")\n",
    "                parent[neighbor] = current\n",
    "                neighbor.g = tentative_g\n",
    "                neighbor.f = neighbor.calculate_f(neighbor.g)\n",
    "                if not_in_openset:\n",
    "                    print(\"Adding neighbor to open set\")\n",
    "                    open_set += [neighbor]\n",
    "    return None, None"
   ],
   "metadata": {
    "collapsed": false,
    "ExecuteTime": {
     "end_time": "2023-12-17T22:21:15.585461800Z",
     "start_time": "2023-12-17T22:21:15.554564700Z"
    }
   },
   "id": "a01342c7bda55cac"
  },
  {
   "cell_type": "code",
   "execution_count": 4,
   "outputs": [
    {
     "name": "stdout",
     "output_type": "stream",
     "text": [
      "Open set length: 1\n",
      "Current matrix [[1 0 3]\n",
      " [4 2 5]\n",
      " [7 8 6]]\n",
      "Before updating the sets\n",
      "\tOpen set: [<Puzzle_state.puzzle_state object at 0x0000018D10E26FD0>]\n",
      "\tClosed set: []\n",
      "After updating the sets\n",
      "\tOpen set: []\n",
      "\tClosed set: [<Puzzle_state.puzzle_state object at 0x0000018D10E26FD0>]\n",
      "Neighbor [[1 2 3]\n",
      " [4 0 5]\n",
      " [7 8 6]]\n",
      "Neighbor is not in closed set\n",
      "Adding neighbor as parent\n",
      "Adding neighbor to open set\n",
      "Neighbor [[1 3 0]\n",
      " [4 2 5]\n",
      " [7 8 6]]\n",
      "Neighbor is not in closed set\n",
      "Adding neighbor as parent\n",
      "Adding neighbor to open set\n",
      "Neighbor [[0 1 3]\n",
      " [4 2 5]\n",
      " [7 8 6]]\n",
      "Neighbor is not in closed set\n",
      "Adding neighbor as parent\n",
      "Adding neighbor to open set\n",
      "Current matrix [[1 2 3]\n",
      " [4 0 5]\n",
      " [7 8 6]]\n",
      "Before updating the sets\n",
      "\tOpen set: [<Puzzle_state.puzzle_state object at 0x0000018D10D3D450>, <Puzzle_state.puzzle_state object at 0x0000018D10DAEFD0>, <Puzzle_state.puzzle_state object at 0x0000018D10E274D0>]\n",
      "\tClosed set: [<Puzzle_state.puzzle_state object at 0x0000018D10E26FD0>]\n",
      "After updating the sets\n",
      "\tOpen set: [<Puzzle_state.puzzle_state object at 0x0000018D10DAEFD0>, <Puzzle_state.puzzle_state object at 0x0000018D10E274D0>]\n",
      "\tClosed set: [<Puzzle_state.puzzle_state object at 0x0000018D10E26FD0>, <Puzzle_state.puzzle_state object at 0x0000018D10D3D450>]\n",
      "Neighbor [[1 2 3]\n",
      " [4 8 5]\n",
      " [7 0 6]]\n",
      "Neighbor is not in closed set\n",
      "Adding neighbor as parent\n",
      "Adding neighbor to open set\n",
      "Neighbor [[1 0 3]\n",
      " [4 2 5]\n",
      " [7 8 6]]\n",
      "Neighbor [[1 2 3]\n",
      " [4 5 0]\n",
      " [7 8 6]]\n",
      "Neighbor is not in closed set\n",
      "Adding neighbor as parent\n",
      "Adding neighbor to open set\n",
      "Neighbor [[1 2 3]\n",
      " [0 4 5]\n",
      " [7 8 6]]\n",
      "Neighbor is not in closed set\n",
      "Adding neighbor as parent\n",
      "Adding neighbor to open set\n",
      "Current matrix [[1 2 3]\n",
      " [4 5 0]\n",
      " [7 8 6]]\n",
      "Before updating the sets\n",
      "\tOpen set: [<Puzzle_state.puzzle_state object at 0x0000018D10DAEFD0>, <Puzzle_state.puzzle_state object at 0x0000018D10E274D0>, <Puzzle_state.puzzle_state object at 0x0000018D10E277D0>, <Puzzle_state.puzzle_state object at 0x0000018D10E27450>, <Puzzle_state.puzzle_state object at 0x0000018D10E27690>]\n",
      "\tClosed set: [<Puzzle_state.puzzle_state object at 0x0000018D10E26FD0>, <Puzzle_state.puzzle_state object at 0x0000018D10D3D450>]\n",
      "After updating the sets\n",
      "\tOpen set: [<Puzzle_state.puzzle_state object at 0x0000018D10DAEFD0>, <Puzzle_state.puzzle_state object at 0x0000018D10E274D0>, <Puzzle_state.puzzle_state object at 0x0000018D10E277D0>, <Puzzle_state.puzzle_state object at 0x0000018D10E27690>]\n",
      "\tClosed set: [<Puzzle_state.puzzle_state object at 0x0000018D10E26FD0>, <Puzzle_state.puzzle_state object at 0x0000018D10D3D450>, <Puzzle_state.puzzle_state object at 0x0000018D10E27450>]\n",
      "Neighbor [[1 2 3]\n",
      " [4 5 6]\n",
      " [7 8 0]]\n",
      "Neighbor is not in closed set\n",
      "Adding neighbor as parent\n",
      "Adding neighbor to open set\n",
      "Neighbor [[1 2 0]\n",
      " [4 5 3]\n",
      " [7 8 6]]\n",
      "Neighbor is not in closed set\n",
      "Adding neighbor as parent\n",
      "Adding neighbor to open set\n",
      "Neighbor [[1 2 3]\n",
      " [4 0 5]\n",
      " [7 8 6]]\n",
      "Current matrix [[1 2 3]\n",
      " [4 5 6]\n",
      " [7 8 0]]\n"
     ]
    }
   ],
   "source": [
    "start = puzzle_state(np.array([[1, 0, 3],\n",
    "                               [4, 2, 5],\n",
    "                               [7, 8, 6]]), 0)\n",
    "parent, current = a_star(start)"
   ],
   "metadata": {
    "collapsed": false,
    "ExecuteTime": {
     "end_time": "2023-12-17T22:21:15.592657900Z",
     "start_time": "2023-12-17T22:21:15.576589400Z"
    }
   },
   "id": "3572a8dbef509c35"
  },
  {
   "cell_type": "code",
   "execution_count": 5,
   "outputs": [
    {
     "data": {
      "text/plain": "<Figure size 640x480 with 1 Axes>",
      "image/png": "[encoded data removed]"
     },
     "metadata": {},
     "output_type": "display_data"
    }
   ],
   "source": [
    "start = puzzle_state(np.array([[1, 2, 3],\n",
    "                               [4, 5, 6],\n",
    "                               [7, 8, 0]]), 0)\n",
    "plot_puzzle(start.matrix)"
   ],
   "metadata": {
    "collapsed": false,
    "ExecuteTime": {
     "end_time": "2023-12-17T22:21:15.838501300Z",
     "start_time": "2023-12-17T22:21:15.601560600Z"
    }
   },
   "id": "28cf4906937bce22"
  }
 ],
 "metadata": {
  "kernelspec": {
   "display_name": "Python 3",
   "language": "python",
   "name": "python3"
  },
  "language_info": {
   "codemirror_mode": {
    "name": "ipython",
    "version": 2
   },
   "file_extension": ".py",
   "mimetype": "text/x-python",
   "name": "python",
   "nbconvert_exporter": "python",
   "pygments_lexer": "ipython2",
   "version": "2.7.6"
  }
 },
 "nbformat": 4,
 "nbformat_minor": 5
}
